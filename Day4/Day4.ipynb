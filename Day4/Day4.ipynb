{
 "cells": [
  {
   "cell_type": "markdown",
   "metadata": {},
   "source": [
    "# Problem 1\n",
    "Beautiful Days at the Movies --> HackerRank"
   ]
  },
  {
   "cell_type": "code",
   "execution_count": 3,
   "metadata": {},
   "outputs": [
    {
     "name": "stdout",
     "output_type": "stream",
     "text": [
      "20 22 6\n",
      "2\n"
     ]
    }
   ],
   "source": [
    "i,j,k = [int(x) for x in input().split()]\n",
    "c = 0\n",
    "for x in range(i,j+1) :\n",
    "    if ( x - int(str(x)[::-1])) % k == 0 :\n",
    "        c += 1\n",
    "print(c)"
   ]
  },
  {
   "cell_type": "markdown",
   "metadata": {},
   "source": [
    "# Problem 2\n",
    "Laddu --> CodeChef"
   ]
  },
  {
   "cell_type": "code",
   "execution_count": 1,
   "metadata": {},
   "outputs": [
    {
     "name": "stdout",
     "output_type": "stream",
     "text": [
      "2\n",
      "4 INDIAN\n",
      "CONTEST_WON 1\n",
      "TOP_CONTRIBUTOR\n",
      "BUG_FOUND 100\n",
      "CONTEST_HOSTED\n",
      "3\n",
      "4 NON_INDIAN\n",
      "CONTEST_WON 1\n",
      "TOP_CONTRIBUTOR\n",
      "BUG_FOUND 100\n",
      "CONTEST_HOSTED\n",
      "1\n"
     ]
    }
   ],
   "source": [
    "for _ in range(int(input())):\n",
    "    ac,origin = input().split()\n",
    "    l = 0\n",
    "    for i in range(int(ac)):\n",
    "        x = input()\n",
    "        if x == 'TOP_CONTRIBUTOR':\n",
    "            l += 300\n",
    "        elif x == 'CONTEST_HOSTED':\n",
    "            l += 50\n",
    "        else:\n",
    "            x = x.split()\n",
    "            if x[0] == 'CONTEST_WON':\n",
    "                l += 300 + max(0,20-int(x[1]))\n",
    "            else:\n",
    "                l += int(x[1])\n",
    "    if origin == 'INDIAN':\n",
    "        print(l//200)\n",
    "    else:\n",
    "        print(l//400)"
   ]
  }
 ],
 "metadata": {
  "kernelspec": {
   "display_name": "Python 3",
   "language": "python",
   "name": "python3"
  },
  "language_info": {
   "codemirror_mode": {
    "name": "ipython",
    "version": 3
   },
   "file_extension": ".py",
   "mimetype": "text/x-python",
   "name": "python",
   "nbconvert_exporter": "python",
   "pygments_lexer": "ipython3",
   "version": "3.7.6"
  }
 },
 "nbformat": 4,
 "nbformat_minor": 4
}
